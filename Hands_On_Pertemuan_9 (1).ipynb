{
  "cells": [
    {
      "cell_type": "markdown",
      "id": "115f65d3",
      "metadata": {
        "id": "115f65d3"
      },
      "source": [
        "# Hands-On Pertemuan 9: Spark SQL"
      ]
    },
    {
      "cell_type": "markdown",
      "id": "7f0fa7f9",
      "metadata": {
        "id": "7f0fa7f9"
      },
      "source": [
        "## Tujuan:\n",
        "- Mengasah keterampilan analisis data menggunakan Spark SQL.\n",
        "- Melakukan lebih banyak latihan SQL yang mengarah ke skenario dunia nyata.\n",
        "- Mempersiapkan mahasiswa untuk menggunakan Spark SQL dalam proyek besar.\n"
      ]
    },
    {
      "cell_type": "markdown",
      "id": "3a45dcb9",
      "metadata": {
        "id": "3a45dcb9"
      },
      "source": [
        "### 1. Refresher: Basic SQL Operations in Spark SQL\n",
        "- **Tugas 1**: Ulangi pemahaman Anda tentang SQL dasar dengan menjalankan queries sederhana pada dataset di Spark SQL.\n"
      ]
    },
    {
      "cell_type": "code",
      "execution_count": null,
      "id": "G8vN7lfGS_9e",
      "metadata": {
        "colab": {
          "base_uri": "https://localhost:8080/"
        },
        "id": "G8vN7lfGS_9e",
        "outputId": "69151df3-3c66-4de3-f0c0-9eebb6d4c095"
      },
      "outputs": [
        {
          "output_type": "stream",
          "name": "stdout",
          "text": [
            "Collecting findspark\n",
            "  Downloading findspark-2.0.1-py2.py3-none-any.whl.metadata (352 bytes)\n",
            "Downloading findspark-2.0.1-py2.py3-none-any.whl (4.4 kB)\n",
            "Installing collected packages: findspark\n",
            "Successfully installed findspark-2.0.1\n"
          ]
        }
      ],
      "source": [
        "pip install findspark\n"
      ]
    },
    {
      "cell_type": "code",
      "execution_count": null,
      "id": "qb93nhyUTHck",
      "metadata": {
        "colab": {
          "base_uri": "https://localhost:8080/"
        },
        "id": "qb93nhyUTHck",
        "outputId": "cfca747a-ea2d-4df5-a8a9-6f0e7b9167fb"
      },
      "outputs": [
        {
          "output_type": "stream",
          "name": "stdout",
          "text": [
            "Requirement already satisfied: pyspark in /usr/local/lib/python3.10/dist-packages (3.5.3)\n",
            "Requirement already satisfied: py4j==0.10.9.7 in /usr/local/lib/python3.10/dist-packages (from pyspark) (0.10.9.7)\n"
          ]
        }
      ],
      "source": [
        "pip install pyspark\n"
      ]
    },
    {
      "cell_type": "code",
      "execution_count": null,
      "id": "398U_92uTRiL",
      "metadata": {
        "colab": {
          "base_uri": "https://localhost:8080/"
        },
        "id": "398U_92uTRiL",
        "outputId": "dd3c54d2-091f-4f0a-8f03-d9ecb24f35bf"
      },
      "outputs": [
        {
          "output_type": "stream",
          "name": "stdout",
          "text": [
            "Requirement already satisfied: pandas in /usr/local/lib/python3.10/dist-packages (2.2.2)\n",
            "Requirement already satisfied: numpy>=1.22.4 in /usr/local/lib/python3.10/dist-packages (from pandas) (1.26.4)\n",
            "Requirement already satisfied: python-dateutil>=2.8.2 in /usr/local/lib/python3.10/dist-packages (from pandas) (2.8.2)\n",
            "Requirement already satisfied: pytz>=2020.1 in /usr/local/lib/python3.10/dist-packages (from pandas) (2024.2)\n",
            "Requirement already satisfied: tzdata>=2022.7 in /usr/local/lib/python3.10/dist-packages (from pandas) (2024.2)\n",
            "Requirement already satisfied: six>=1.5 in /usr/local/lib/python3.10/dist-packages (from python-dateutil>=2.8.2->pandas) (1.16.0)\n"
          ]
        }
      ],
      "source": [
        "pip install pandas\n"
      ]
    },
    {
      "cell_type": "code",
      "execution_count": null,
      "id": "KOiqE7rfTnQJ",
      "metadata": {
        "id": "KOiqE7rfTnQJ"
      },
      "outputs": [],
      "source": [
        "import findspark\n",
        "findspark.init()"
      ]
    },
    {
      "cell_type": "code",
      "execution_count": null,
      "id": "974a023b",
      "metadata": {
        "colab": {
          "base_uri": "https://localhost:8080/"
        },
        "id": "974a023b",
        "outputId": "351e16af-f5b8-43bc-a3ae-bcc703553983"
      },
      "outputs": [
        {
          "output_type": "stream",
          "name": "stdout",
          "text": [
            "+-----+---+------+------+------+\n",
            "| Name|Age|Gender|Salary|DeptId|\n",
            "+-----+---+------+------+------+\n",
            "|James| 34|     M|  3000|     1|\n",
            "| Anna| 28|     F|  4100|     2|\n",
            "|  Lee| 23|     M|  2700|     1|\n",
            "+-----+---+------+------+------+\n",
            "\n",
            "+----+---+\n",
            "|Name|Age|\n",
            "+----+---+\n",
            "|Anna| 28|\n",
            "+----+---+\n",
            "\n",
            "+------------------+\n",
            "|       avg(Salary)|\n",
            "+------------------+\n",
            "|3266.6666666666665|\n",
            "+------------------+\n",
            "\n"
          ]
        }
      ],
      "source": [
        "\n",
        "from pyspark.sql import SparkSession\n",
        "spark= SparkSession.builder.appName(\"Hands_On_Pertemuan_9\").getOrCreate()\n",
        "data = [\n",
        "    ('James', 34, 'M', 3000, 1),\n",
        "    ('Anna', 28, 'F', 4100, 2),\n",
        "    ('Lee', 23, 'M', 2700, 1)\n",
        "]\n",
        "columns = ['Name', 'Age', 'Gender', 'Salary', 'DeptId']\n",
        "df = spark.createDataFrame(data, schema=columns)\n",
        "df.createOrReplaceTempView('employees')\n",
        "spark.sql('SELECT * FROM employees').show()\n",
        "spark.sql('SELECT Name, Age FROM employees WHERE Salary > 3000').show()\n",
        "spark.sql('SELECT AVG(Salary) FROM employees').show()\n"
      ]
    },
    {
      "cell_type": "markdown",
      "id": "9fd8b4f1",
      "metadata": {
        "id": "9fd8b4f1"
      },
      "source": [
        "### 2. Advanced Queries for Data Analysis\n",
        "Gunakan queries lebih kompleks, melibatkan grouping, filtering, dan subqueries.\n",
        "- **Tugas 2**: Buat SQL query yang menghitung total gaji berdasarkan jenis kelamin dan usia.\n"
      ]
    },
    {
      "cell_type": "code",
      "execution_count": null,
      "id": "4fc8a9e6",
      "metadata": {
        "colab": {
          "base_uri": "https://localhost:8080/"
        },
        "id": "4fc8a9e6",
        "outputId": "e5b86bb7-ee82-4695-bbca-db1e772079cb"
      },
      "outputs": [
        {
          "name": "stdout",
          "output_type": "stream",
          "text": [
            "+------+-----------+---+\n",
            "|Gender|TotalSalary|Age|\n",
            "+------+-----------+---+\n",
            "|     M|       2700| 23|\n",
            "|     F|       4100| 28|\n",
            "|     M|       3000| 34|\n",
            "+------+-----------+---+\n",
            "\n"
          ]
        }
      ],
      "source": [
        "spark.sql('''\n",
        "SELECT Gender, SUM(Salary) as TotalSalary, Age\n",
        "FROM employees\n",
        "GROUP BY Gender, Age\n",
        "ORDER BY Age\n",
        "''').show()\n"
      ]
    },
    {
      "cell_type": "markdown",
      "id": "18b3ccb1",
      "metadata": {
        "id": "18b3ccb1"
      },
      "source": [
        "- **Tugas Tambahan 2**:\n",
        "1. Cari rata-rata gaji per departemen.\n",
        "2. Temukan karyawan yang memiliki gaji di atas rata-rata untuk gender masing-masing.\n",
        "3. Buat ranking karyawan berdasarkan gaji dalam departemen mereka.\n"
      ]
    },
    {
      "cell_type": "code",
      "execution_count": null,
      "id": "X1sB792kmF6R",
      "metadata": {
        "colab": {
          "base_uri": "https://localhost:8080/"
        },
        "id": "X1sB792kmF6R",
        "outputId": "3e9822e7-be4e-41ae-ceb8-08e2a98f65d3"
      },
      "outputs": [
        {
          "name": "stdout",
          "output_type": "stream",
          "text": [
            "+-----+------+------+\n",
            "| Name|Gender|Salary|\n",
            "+-----+------+------+\n",
            "|James|     M|  3000|\n",
            "+-----+------+------+\n",
            "\n"
          ]
        }
      ],
      "source": [
        "spark.sql(\"\"\"\n",
        "SELECT e.Name, e.Gender, e.Salary\n",
        "FROM employees e\n",
        "JOIN (SELECT Gender, AVG(Salary) AS avg_salary FROM employees GROUP BY Gender) AS avg_gender_salary\n",
        "ON e.Gender = avg_gender_salary.Gender\n",
        "WHERE e.Salary > avg_gender_salary.avg_salary\n",
        "\"\"\").show()"
      ]
    },
    {
      "cell_type": "markdown",
      "id": "3c4fffdc",
      "metadata": {
        "id": "3c4fffdc"
      },
      "source": [
        "### 3. Penggunaan Window Functions dan Subqueries\n",
        "Latihan penggunaan window functions untuk menemukan karyawan dengan gaji tertinggi dan urutannya berdasarkan kelompok usia.\n",
        "- **Tugas 3**: Terapkan window functions untuk menemukan top 3 karyawan dalam kelompok usia tertentu.\n"
      ]
    },
    {
      "cell_type": "code",
      "execution_count": null,
      "id": "eb927310",
      "metadata": {
        "colab": {
          "base_uri": "https://localhost:8080/"
        },
        "id": "eb927310",
        "outputId": "501669e1-8545-41e2-a5d8-1c880499b466"
      },
      "outputs": [
        {
          "name": "stdout",
          "output_type": "stream",
          "text": [
            "+-----+---+------+----+\n",
            "| Name|Age|Salary|rank|\n",
            "+-----+---+------+----+\n",
            "|  Lee| 23|  2700|   1|\n",
            "| Anna| 28|  4100|   1|\n",
            "|James| 34|  3000|   1|\n",
            "+-----+---+------+----+\n",
            "\n"
          ]
        }
      ],
      "source": [
        "spark.sql('''\n",
        "SELECT Name, Age, Salary, ROW_NUMBER() OVER (PARTITION BY Age ORDER BY Salary DESC) as rank\n",
        "FROM employees\n",
        "''').show()\n"
      ]
    },
    {
      "cell_type": "markdown",
      "id": "5fb43ac4",
      "metadata": {
        "id": "5fb43ac4"
      },
      "source": [
        "### 4. Advanced Spark SQL Queries\n",
        "Menjelajahi queries yang lebih kompleks yang melibatkan multiple joins, subqueries, dan window functions.\n",
        "- **Tugas 4**: Demonstrasi penggunaan multi-level joins dan subqueries untuk analisis data yang mendalam.\n"
      ]
    },
    {
      "cell_type": "code",
      "execution_count": null,
      "id": "f1bfd9fd",
      "metadata": {
        "colab": {
          "base_uri": "https://localhost:8080/"
        },
        "id": "f1bfd9fd",
        "outputId": "36d684bd-12e2-48c0-be04-6fef58982422"
      },
      "outputs": [
        {
          "output_type": "stream",
          "name": "stdout",
          "text": [
            "+-----+---+---------+-----------+\n",
            "| Name|Age| DeptName|ProjectName|\n",
            "+-----+---+---------+-----------+\n",
            "|  Lee| 23|       HR|  Project A|\n",
            "|James| 34|       HR|  Project A|\n",
            "| Anna| 28|Marketing|  Project B|\n",
            "+-----+---+---------+-----------+\n",
            "\n"
          ]
        }
      ],
      "source": [
        "from pyspark.sql import SparkSession\n",
        "spark = SparkSession.builder.appName('Pertemuan9').getOrCreate()\n",
        "\n",
        "# Data setup for complex SQL queries\n",
        "employees = spark.createDataFrame([\n",
        "    ('James', 34, 'M', 3000, 1),\n",
        "    ('Anna', 28, 'F', 4100, 2),\n",
        "    ('Lee', 23, 'M', 2700, 1)\n",
        "], ['Name', 'Age', 'Gender', 'Salary', 'DeptId'])\n",
        "departments = spark.createDataFrame([\n",
        "    (1, 'HR'),\n",
        "    (2, 'Marketing')\n",
        "], ['DeptId', 'DeptName'])\n",
        "projects = spark.createDataFrame([\n",
        "    (1, 'Project A'),\n",
        "    (2, 'Project B')\n",
        "], ['DeptId', 'ProjectName'])\n",
        "employees.createOrReplaceTempView('employees')\n",
        "departments.createOrReplaceTempView('departments')\n",
        "projects.createOrReplaceTempView('projects')\n",
        "\n",
        "# Complex SQL query involving multiple joins and subqueries\n",
        "spark.sql('''\n",
        "SELECT e.Name, e.Age, d.DeptName, p.ProjectName\n",
        "FROM employees e\n",
        "JOIN departments d ON e.DeptId = d.DeptId\n",
        "JOIN projects p ON e.DeptId = p.DeptId\n",
        "''').show()\n"
      ]
    },
    {
      "cell_type": "markdown",
      "id": "ad25f1f0",
      "metadata": {
        "id": "ad25f1f0"
      },
      "source": [
        "Latihan mandiri untuk memperkuat pemahaman tentang Spark SQL dalam analisis data terdistribusi.\n",
        "- **Tugas 5**: Tuliskan query SQL untuk menemukan rata-rata gaji per departemen dan rangking setiap karyawan dalam departemen berdasarkan gaji.\n",
        "- **Tugas 6**: Gunakan window functions untuk menentukan tren gaji berdasarkan usia di setiap departemen.\n"
      ]
    },
    {
      "cell_type": "code",
      "execution_count": null,
      "id": "5nL7YWZiJmeu",
      "metadata": {
        "colab": {
          "base_uri": "https://localhost:8080/"
        },
        "id": "5nL7YWZiJmeu",
        "outputId": "5850dd4d-f8b3-47eb-bbe3-4ac8142d4457"
      },
      "outputs": [
        {
          "output_type": "stream",
          "name": "stdout",
          "text": [
            "+---------+-----+------+-------------+----------+\n",
            "| DeptName| Name|Salary|AvgDeptSalary|SalaryRank|\n",
            "+---------+-----+------+-------------+----------+\n",
            "|       HR|James|  3000|       2850.0|         1|\n",
            "|       HR|  Lee|  2700|       2850.0|         2|\n",
            "|Marketing| Anna|  4100|       4100.0|         1|\n",
            "+---------+-----+------+-------------+----------+\n",
            "\n"
          ]
        }
      ],
      "source": [
        "spark.sql('''\n",
        "SELECT d.DeptName, e.Name, e.Salary,\n",
        "       AVG(e.Salary) OVER (PARTITION BY d.DeptName) AS AvgDeptSalary,\n",
        "       RANK() OVER (PARTITION BY d.DeptName ORDER BY e.Salary DESC) AS SalaryRank\n",
        "FROM employees e\n",
        "JOIN departments d ON e.DeptId = d.DeptId;\n",
        "''').show()"
      ]
    },
    {
      "cell_type": "code",
      "execution_count": null,
      "id": "GAXfxLmWw2BK",
      "metadata": {
        "colab": {
          "base_uri": "https://localhost:8080/"
        },
        "id": "GAXfxLmWw2BK",
        "outputId": "4b4751bd-2d90-4bea-cf3d-fd9ce2b614a7"
      },
      "outputs": [
        {
          "output_type": "stream",
          "name": "stdout",
          "text": [
            "+-----+---+------+------+----------+----------+----------+-------+\n",
            "| Name|Age|DeptId|Salary|avg_salary|min_salary|max_salary|row_num|\n",
            "+-----+---+------+------+----------+----------+----------+-------+\n",
            "|  Lee| 23|     1|  2700|    2700.0|      2700|      2700|      1|\n",
            "|James| 34|     1|  3000|    2850.0|      2700|      3000|      2|\n",
            "| Anna| 28|     2|  4100|    4100.0|      4100|      4100|      1|\n",
            "+-----+---+------+------+----------+----------+----------+-------+\n",
            "\n"
          ]
        }
      ],
      "source": [
        "from pyspark.sql.window import Window\n",
        "from pyspark.sql.functions import avg, min, max, row_number\n",
        "\n",
        "# Window partitioned by DeptId (Departemen) dan diurutkan berdasarkan Age (Usia)\n",
        "windowSpec = Window.partitionBy(\"DeptId\").orderBy(\"Age\")\n",
        "\n",
        "# Menghitung rata-rata, minimum, dan maksimum gaji untuk setiap usia di dalam setiap departemen\n",
        "salary_trend_df = employees \\\n",
        "    .withColumn(\"avg_salary\", avg(\"Salary\").over(windowSpec)) \\\n",
        "    .withColumn(\"min_salary\", min(\"Salary\").over(windowSpec)) \\\n",
        "    .withColumn(\"max_salary\", max(\"Salary\").over(windowSpec)) \\\n",
        "    .withColumn(\"row_num\", row_number().over(windowSpec))\n",
        "\n",
        "# Menampilkan hasil\n",
        "salary_trend_df.select(\"Name\", \"Age\", \"DeptId\", \"Salary\", \"avg_salary\", \"min_salary\", \"max_salary\", \"row_num\") \\\n",
        "    .show()\n"
      ]
    },
    {
      "cell_type": "markdown",
      "id": "88a2c206",
      "metadata": {
        "id": "88a2c206"
      },
      "source": [
        "### 5. Advanced Data Analysis and Visualization\n",
        "Penerapan teknik analisis data yang lebih canggih dan visualisasi menggunakan PySpark dan matplotlib.\n",
        "- **Tugas 7**: Lakukan analisis tren gaji menggunakan Spark SQL dan visualisasikan hasilnya.\n"
      ]
    },
    {
      "cell_type": "code",
      "execution_count": null,
      "id": "a170f256",
      "metadata": {
        "colab": {
          "base_uri": "https://localhost:8080/",
          "height": 487
        },
        "id": "a170f256",
        "outputId": "116946da-5924-4d8e-9312-844a9b804c69"
      },
      "outputs": [
        {
          "output_type": "display_data",
          "data": {
            "text/plain": [
              "<Figure size 1000x500 with 1 Axes>"
            ],
            "image/png": "[encoded data removed]"
          },
          "metadata": {}
        }
      ],
      "source": [
        "import matplotlib.pyplot as plt\n",
        "import pandas as pd\n",
        "\n",
        "# Advanced data analysis with visualization\n",
        "salary_trends = spark.sql('''\n",
        "SELECT Age, AVG(Salary) AS AverageSalary\n",
        "FROM employees\n",
        "GROUP BY Age\n",
        "ORDER BY Age\n",
        "''').toPandas()\n",
        "\n",
        "# Visualization of salary trends\n",
        "plt.figure(figsize=(10, 5))\n",
        "plt.plot(salary_trends['Age'], salary_trends['AverageSalary'], marker='o')\n",
        "plt.xlabel('Age')\n",
        "plt.ylabel('Average Salary')\n",
        "plt.title('Salary Trends by Age')\n",
        "plt.grid(True)\n",
        "plt.show()\n"
      ]
    },
    {
      "cell_type": "markdown",
      "id": "dd314ae9",
      "metadata": {
        "id": "dd314ae9"
      },
      "source": [
        "### 6. Homework\n",
        "- **Tugas 1**: Gunakan Spark SQL untuk mencari total gaji dan jumlah karyawan per departemen. Buat visualisasi perbandingan antar departemen.\n",
        "- **Tugas 2**: Temukan karyawan dengan gaji di atas rata-rata dalam setiap kelompok usia dan visualisasikan data ini dalam bentuk grafik batang atau pie chart.\n",
        "- **Tugas 3**: Buat dataset yang lebih besar (misalnya, 100+ baris) dan lakukan analisis mendalam menggunakan SQL functions seperti `SUM()`, `AVG()`, `COUNT()`, serta `JOIN` antar tabel serta buat visualisasi yang menarik.\n"
      ]
    },
    {
      "cell_type": "code",
      "execution_count": null,
      "id": "enH3naL-711-",
      "metadata": {
        "colab": {
          "base_uri": "https://localhost:8080/",
          "height": 559
        },
        "id": "enH3naL-711-",
        "outputId": "3c71f291-af6a-4650-8df8-869c426232f4"
      },
      "outputs": [
        {
          "output_type": "stream",
          "name": "stdout",
          "text": [
            "    DeptName  TotalSalary  EmployeeCount\n",
            "0         HR         5700              2\n",
            "1  Marketing         4100              1\n"
          ]
        },
        {
          "output_type": "display_data",
          "data": {
            "text/plain": [
              "<Figure size 1200x500 with 2 Axes>"
            ],
            "image/png": "[encoded data removed]"
          },
          "metadata": {}
        }
      ],
      "source": [
        "import pandas as pd\n",
        "import matplotlib.pyplot as plt\n",
        "\n",
        "# Menghitung total gaji dan jumlah karyawan per departemen\n",
        "result_tugas1 = spark.sql('''\n",
        "    SELECT d.DeptName, SUM(e.Salary) AS TotalSalary, COUNT(e.Name) AS EmployeeCount\n",
        "    FROM employees e\n",
        "    JOIN departments d ON e.DeptId = d.DeptId\n",
        "    GROUP BY d.DeptName\n",
        "''').toPandas()\n",
        "\n",
        "print(result_tugas1)\n",
        "# Membuat figure untuk dua bar chart\n",
        "plt.figure(figsize=(12, 5))\n",
        "\n",
        "# Grafik batang untuk Total Gaji per Departemen\n",
        "plt.subplot(1, 2, 1)\n",
        "plt.bar(result_tugas1['DeptName'], result_tugas1['TotalSalary'], color='skyblue')\n",
        "plt.xlabel('Department')\n",
        "plt.ylabel('Total Salary')\n",
        "plt.title('Total Salary per Department')\n",
        "\n",
        "# Grafik batang untuk Jumlah Karyawan per Departemen\n",
        "plt.subplot(1, 2, 2)\n",
        "plt.bar(result_tugas1['DeptName'], result_tugas1['EmployeeCount'], color='salmon')\n",
        "plt.xlabel('Department')\n",
        "plt.ylabel('Employee Count')\n",
        "plt.title('Employee Count per Department')\n",
        "\n",
        "# Menyusun layout agar rapi\n",
        "plt.tight_layout()\n",
        "plt.show()\n"
      ]
    },
    {
      "cell_type": "code",
      "execution_count": null,
      "id": "Qr2wkGGtCNuy",
      "metadata": {
        "id": "Qr2wkGGtCNuy"
      },
      "outputs": [],
      "source": []
    }
  ],
  "metadata": {
    "colab": {
      "provenance": []
    },
    "kernelspec": {
      "display_name": "Python 3",
      "name": "python3"
    },
    "language_info": {
      "name": "python"
    }
  },
  "nbformat": 4,
  "nbformat_minor": 5
}