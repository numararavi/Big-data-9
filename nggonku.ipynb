{
  "nbformat": 4,
  "nbformat_minor": 0,
  "metadata": {
    "colab": {
      "provenance": []
    },
    "kernelspec": {
      "name": "python3",
      "display_name": "Python 3"
    },
    "language_info": {
      "name": "python"
    }
  },
  "cells": [
    {
      "cell_type": "code",
      "execution_count": 26,
      "metadata": {
        "colab": {
          "base_uri": "https://localhost:8080/"
        },
        "id": "QerNBTn6DmT0",
        "outputId": "065e449f-922c-4c16-adee-73fb8e950b5a"
      },
      "outputs": [
        {
          "output_type": "stream",
          "name": "stdout",
          "text": [
            "+---------------+-----+-----+\n",
            "|           Nama|Nilai|Kelas|\n",
            "+---------------+-----+-----+\n",
            "|          AHMAD|   46|    6|\n",
            "|        ARFENDO|   77|    6|\n",
            "|      LATIFUDIN|   33|    6|\n",
            "|          HENDI|   81|    6|\n",
            "|      M. FERYAN|   75|    6|\n",
            "|          RENDI|   94|    6|\n",
            "|         NUREKA|   69|    6|\n",
            "|          INDRA|   56|    5|\n",
            "|     MOCH IDWAL|   81|    5|\n",
            "|    REYNO YUSUF|   48|    5|\n",
            "|  AHMAD MINANUL|   45|    4|\n",
            "|         AFIZZA|   46|    4|\n",
            "|            RIO|   77|    4|\n",
            "|       MUKHOZIN|   88|    4|\n",
            "|           ANDY|   56|    3|\n",
            "|    STIFEN ZURO|   63|    5|\n",
            "|         ROHMAT|   69|    3|\n",
            "|      SAFRUDINI|   56|    2|\n",
            "|  AFRIZAL AHMAD|   33|    4|\n",
            "| MOHAMMAD HASIB|   76|    4|\n",
            "|MUHAMMAD ENRICO|   56|    5|\n",
            "|     MOH. LUKKY|   85|    1|\n",
            "|   ADI ARISANDI|   87|    6|\n",
            "|        M LIBAA|   81|    4|\n",
            "|   ALIF NUZULUR|   42|    3|\n",
            "|   YOGA PERMATA|   24|    5|\n",
            "|    MOH. TAUFIK|   94|    2|\n",
            "|DRAJAT AL AKBAR|   70|    3|\n",
            "|  MUHAMMAD ARDY|   54|    1|\n",
            "|      DWI BAGUS|   88|    2|\n",
            "|   SATRIA WAHYU|   54|    1|\n",
            "|     MOCH. ARIS|   56|    1|\n",
            "|AQIL ALMUFARRID|   63|    1|\n",
            "| ADHI NOVIANDHI|   45|    1|\n",
            "|          NIKEN|   54|    4|\n",
            "|  MOHAMMAD AZIZ|   88|    6|\n",
            "|        BADIYAH|   45|    4|\n",
            "|       M. RISKI|   20|    6|\n",
            "|      RIZAL DWI|   81|    5|\n",
            "|          RICKO|   96|    3|\n",
            "|     NUR SAM'UN|  100|    5|\n",
            "|   DIMAS GILANG|   38|    1|\n",
            "|    MUH. FADLIL|   88|    3|\n",
            "|      AL FAROSA|   96|    3|\n",
            "|   MIFTAH AHNAN|   98|    2|\n",
            "|    GIGIH JENOP|   45|    2|\n",
            "|          WAHYU|   96|    1|\n",
            "|          FATMA|   54|    5|\n",
            "|          ALISA|   88|    6|\n",
            "|     DIRGANTARA|   62|    2|\n",
            "+---------------+-----+-----+\n",
            "only showing top 50 rows\n",
            "\n"
          ]
        }
      ],
      "source": [
        "from pyspark.sql import SparkSession\n",
        "spark = SparkSession.builder.appName('BigData').getOrCreate()\n",
        "df = spark.read.csv('datakocak.csv', header = \"True\", inferSchema = \"True\")\n",
        "df.createOrReplaceTempView(\"datakocak\")\n",
        "\n",
        "df.show(50)"
      ]
    },
    {
      "cell_type": "code",
      "source": [
        "result_sum_avg_count= spark.sql('''\n",
        "  SELECT\n",
        "    SUM(Nilai) AS total_Nilai,\n",
        "    AVG(Nilai) AS rata_rata_Nilai,\n",
        "    COUNT(Nilai) AS jumlah_data\n",
        "    FROM datakocak\n",
        "''')\n",
        "result_sum_avg_count.show()"
      ],
      "metadata": {
        "colab": {
          "base_uri": "https://localhost:8080/"
        },
        "id": "uS0-KKPfEzYk",
        "outputId": "85883161-e439-4bfd-ed61-579b289855f7"
      },
      "execution_count": 11,
      "outputs": [
        {
          "output_type": "stream",
          "name": "stdout",
          "text": [
            "+-----------+-----------------+-----------+\n",
            "|total_Nilai|  rata_rata_Nilai|jumlah_data|\n",
            "+-----------+-----------------+-----------+\n",
            "|       3407|66.80392156862744|         51|\n",
            "+-----------+-----------------+-----------+\n",
            "\n"
          ]
        }
      ]
    },
    {
      "cell_type": "code",
      "source": [
        "data_baru =[\n",
        "    (\"Supini\",6),\n",
        "    (\"Suprapto\",4),\n",
        "    (\"Suprapti\",3),\n",
        "    (\"Suratmin\",5),\n",
        "    (\"Pangat\",2),\n",
        "    (\"Tio\",1),\n",
        "]\n",
        "df_baru = spark.createDataFrame(data_baru, [\"Nama\", \"Kelas\"])\n",
        "df_baru.createOrReplaceTempView(\"data_wali\")\n",
        "df_baru.show()\n"
      ],
      "metadata": {
        "colab": {
          "base_uri": "https://localhost:8080/"
        },
        "id": "vcen4gc9Fjjw",
        "outputId": "a435b41d-44f1-4618-982b-37383a51b3b6"
      },
      "execution_count": 17,
      "outputs": [
        {
          "output_type": "stream",
          "name": "stdout",
          "text": [
            "+--------+-----+\n",
            "|    Nama|Kelas|\n",
            "+--------+-----+\n",
            "|  Supini|    6|\n",
            "|Suprapto|    4|\n",
            "|Suprapti|    3|\n",
            "|Suratmin|    5|\n",
            "|  Pangat|    2|\n",
            "|     Tio|    1|\n",
            "+--------+-----+\n",
            "\n"
          ]
        }
      ]
    },
    {
      "cell_type": "code",
      "source": [
        "spark.sql('''\n",
        "  SELECT d.Nama, d.Nilai, d.Kelas, w.Nama\n",
        "  FROM datakocak d JOIN data_wali w\n",
        "  ON d.Kelas = w.Kelas\n",
        "''').show(50)"
      ],
      "metadata": {
        "colab": {
          "base_uri": "https://localhost:8080/"
        },
        "id": "AKjaHNaUWmPJ",
        "outputId": "0e796a29-8c14-490f-c739-ea8351351a4b"
      },
      "execution_count": 25,
      "outputs": [
        {
          "output_type": "stream",
          "name": "stdout",
          "text": [
            "+---------------+-----+-----+--------+\n",
            "|           Nama|Nilai|Kelas|    Nama|\n",
            "+---------------+-----+-----+--------+\n",
            "|          ALISA|   88|    6|  Supini|\n",
            "|       M. RISKI|   20|    6|  Supini|\n",
            "|  MOHAMMAD AZIZ|   88|    6|  Supini|\n",
            "|   ADI ARISANDI|   87|    6|  Supini|\n",
            "|         NUREKA|   69|    6|  Supini|\n",
            "|          RENDI|   94|    6|  Supini|\n",
            "|      M. FERYAN|   75|    6|  Supini|\n",
            "|          HENDI|   81|    6|  Supini|\n",
            "|      LATIFUDIN|   33|    6|  Supini|\n",
            "|        ARFENDO|   77|    6|  Supini|\n",
            "|          AHMAD|   46|    6|  Supini|\n",
            "|        BADIYAH|   45|    4|Suprapto|\n",
            "|          NIKEN|   54|    4|Suprapto|\n",
            "|        M LIBAA|   81|    4|Suprapto|\n",
            "| MOHAMMAD HASIB|   76|    4|Suprapto|\n",
            "|  AFRIZAL AHMAD|   33|    4|Suprapto|\n",
            "|       MUKHOZIN|   88|    4|Suprapto|\n",
            "|            RIO|   77|    4|Suprapto|\n",
            "|         AFIZZA|   46|    4|Suprapto|\n",
            "|  AHMAD MINANUL|   45|    4|Suprapto|\n",
            "|      AL FAROSA|   96|    3|Suprapti|\n",
            "|    MUH. FADLIL|   88|    3|Suprapti|\n",
            "|          RICKO|   96|    3|Suprapti|\n",
            "|DRAJAT AL AKBAR|   70|    3|Suprapti|\n",
            "|   ALIF NUZULUR|   42|    3|Suprapti|\n",
            "|         ROHMAT|   69|    3|Suprapti|\n",
            "|           ANDY|   56|    3|Suprapti|\n",
            "|         Supini|   90|    5|Suratmin|\n",
            "|          FATMA|   54|    5|Suratmin|\n",
            "|     NUR SAM'UN|  100|    5|Suratmin|\n",
            "|      RIZAL DWI|   81|    5|Suratmin|\n",
            "|   YOGA PERMATA|   24|    5|Suratmin|\n",
            "|MUHAMMAD ENRICO|   56|    5|Suratmin|\n",
            "|    STIFEN ZURO|   63|    5|Suratmin|\n",
            "|    REYNO YUSUF|   48|    5|Suratmin|\n",
            "|     MOCH IDWAL|   81|    5|Suratmin|\n",
            "|          INDRA|   56|    5|Suratmin|\n",
            "|     DIRGANTARA|   62|    2|  Pangat|\n",
            "|    GIGIH JENOP|   45|    2|  Pangat|\n",
            "|   MIFTAH AHNAN|   98|    2|  Pangat|\n",
            "|      DWI BAGUS|   88|    2|  Pangat|\n",
            "|    MOH. TAUFIK|   94|    2|  Pangat|\n",
            "|      SAFRUDINI|   56|    2|  Pangat|\n",
            "|          WAHYU|   96|    1|     Tio|\n",
            "|   DIMAS GILANG|   38|    1|     Tio|\n",
            "| ADHI NOVIANDHI|   45|    1|     Tio|\n",
            "|AQIL ALMUFARRID|   63|    1|     Tio|\n",
            "|     MOCH. ARIS|   56|    1|     Tio|\n",
            "|   SATRIA WAHYU|   54|    1|     Tio|\n",
            "|  MUHAMMAD ARDY|   54|    1|     Tio|\n",
            "+---------------+-----+-----+--------+\n",
            "only showing top 50 rows\n",
            "\n"
          ]
        }
      ]
    },
    {
      "cell_type": "code",
      "source": [
        "import pandas as pd\n",
        "import matplotlib.pyplot as plt\n",
        "avg_per_kelas = spark.sql('''\n",
        "    SELECT w.Nama AS wali_kelas, d.Kelas, AVG(d.Nilai) AS rata_rata_nilai\n",
        "    FROM datakocak d\n",
        "    JOIN data_wali w ON d.Kelas = w.Kelas\n",
        "    GROUP BY w.Nama, d.Kelas\n",
        "    ORDER BY d.Kelas\n",
        "''')\n",
        "\n",
        "# Konversi hasil ke Pandas DataFrame\n",
        "df_avg_per_kelas = avg_per_kelas.toPandas()\n",
        "\n",
        "# Membuat bar chart untuk rata-rata nilai per kelas\n",
        "plt.figure(figsize=(10, 6))\n",
        "plt.bar(df_avg_per_kelas['Kelas'], df_avg_per_kelas['rata_rata_nilai'])\n",
        "plt.title(\"Rata-rata Nilai per Kelas dan Wali Kelas\")\n",
        "plt.xlabel(\"Kelas\")\n",
        "plt.ylabel(\"Rata-rata Nilai\")\n",
        "plt.legend(title=\"Wali Kelas\")\n",
        "plt.show()"
      ],
      "metadata": {
        "colab": {
          "base_uri": "https://localhost:8080/",
          "height": 490
        },
        "id": "6-1oriraZeGD",
        "outputId": "25462f5b-e406-417d-e3cd-8dffff5487da"
      },
      "execution_count": 28,
      "outputs": [
        {
          "output_type": "stream",
          "name": "stderr",
          "text": [
            "WARNING:matplotlib.legend:No artists with labels found to put in legend.  Note that artists whose label start with an underscore are ignored when legend() is called with no argument.\n"
          ]
        },
        {
          "output_type": "display_data",
          "data": {
            "text/plain": [
              "<Figure size 1000x600 with 1 Axes>"
            ],
            "image/png": "[encoded data removed]"
          },
          "metadata": {}
        }
      ]
    },
    {
      "cell_type": "code",
      "source": [],
      "metadata": {
        "id": "9WuHlKCSdWco"
      },
      "execution_count": null,
      "outputs": []
    }
  ]
}